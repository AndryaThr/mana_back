{
 "cells": [
  {
   "cell_type": "code",
   "execution_count": null,
   "metadata": {},
   "outputs": [],
   "source": [
    "import sqlite3\n",
    "import collections\n",
    "import json\n",
    "\n",
    "\n",
    "data = json.load(open(\"mana.json\"))"
   ]
  },
  {
   "cell_type": "code",
   "execution_count": null,
   "metadata": {},
   "outputs": [],
   "source": [
    "def generate_mana_id(month, day, title, verse):\n",
    "    return str(month) + \"-\" + str(day) + \"_\" + str(title).strip().lower().replace(\" \", \"\") + \"_\" + str(verse).strip().replace(\" \", \"\").lower()\n",
    "\n",
    "class Mana:\n",
    "    def __init__(self, columns):\n",
    "        for col in columns:\n",
    "            self.__setattr__(col, \"\")\n",
    "\n",
    "    def insert_into_db(self, database_path):\n",
    "        not_other = [\"id\", \"month\", \"vakiteny\", \"lohateny\", \"content\", \"f\", \"day\"]\n",
    "        con = sqlite3.connect(database_path)\n",
    "        cur = con.cursor()\n",
    "        cur.execute(\"\"\"\n",
    "            CREATE TABLE IF NOT EXISTS mana (\n",
    "            id varchar(100) PRIMARY KEY,\n",
    "            month int NOT NULL,\n",
    "            day int NOT NULL,\n",
    "            vakiteny varchar(50),\n",
    "            lohateny varchar(50),\n",
    "            content text,\n",
    "            f varchar(10),\n",
    "            other_as_json text);\"\"\")\n",
    "\n",
    "        query = \"insert into mana \"\n",
    "        map_ = {\"columns\":\"(\", \"values\":\" values (\"}\n",
    "\n",
    "        other = {} ## other_as_json = json.dump(other)\n",
    "        for (attr_name, value) in self.__dict__.items():\n",
    "            formatted_value = value\n",
    "            if attr_name.lower().strip() in not_other:\n",
    "                if isinstance(value, list):\n",
    "                    formatted_value = \"\"\n",
    "                    for item in value:\n",
    "                        formatted_value += str(item).replace(\"\\\"\", \"'\") + \" \"\n",
    "                    formatted_value = \"\\\"\" + formatted_value.strip() + \"\\\"\"\n",
    "\n",
    "                elif isinstance(value, str):\n",
    "                    try:\n",
    "                        formatted_value = int(value)\n",
    "                    except:\n",
    "                        formatted_value = \"\\\"\" + value.strip() + \"\\\"\"\n",
    "                map_[\"columns\"] += attr_name + \", \"\n",
    "                map_[\"values\"] += str(formatted_value) + \", \"\n",
    "            else:\n",
    "                other.update({attr_name.lower().strip(): str(value)})\n",
    "\n",
    "        other = json.dumps(other).replace(\"\\\"\", \"'\")\n",
    "        map_[\"columns\"] += \"other_as_json\" + \")\"\n",
    "        map_[\"values\"] += \"\\\"\"+ str(other) + \"\\\"\" + \")\"\n",
    "\n",
    "        query += map_[\"columns\"] + map_[\"values\"]\n",
    "                \n",
    "        cur.execute(query)\n",
    "        con.commit()\n",
    "        con.close()\n",
    "        \n",
    "\n",
    "    def describe(self):\n",
    "        for (attr_name, value) in self.__dict__.items():\n",
    "            print(attr_name, \"=>\", value)"
   ]
  },
  {
   "cell_type": "code",
   "execution_count": null,
   "metadata": {},
   "outputs": [],
   "source": [
    "# columns = []\n",
    "# for (month, item) in data.items():\n",
    "#     for (day_of_month, item) in item.items():\n",
    "#         for (key, value) in item.items():\n",
    "#             columns.append(key.lower().strip())\n",
    "\n",
    "# columns = sorted(list(set(columns)))\n",
    "\n",
    "for (month, item) in data.items():\n",
    "    for (day_of_month, item) in item.items():\n",
    "        mana = Mana([])\n",
    "        mana.__setattr__(\"month\", month)\n",
    "        mana.__setattr__(\"day\", day_of_month)\n",
    "        for (key, value) in item.items():\n",
    "            mana.__setattr__(key.lower().strip(), value)\n",
    "        mana.__setattr__(\"id\", generate_mana_id(month, day_of_month, item[\"lohateny\"], item[\"vakiteny\"]))\n",
    "        mana.insert_into_db(\"baiboly.db\")"
   ]
  },
  {
   "cell_type": "code",
   "execution_count": null,
   "metadata": {},
   "outputs": [],
   "source": []
  }
 ],
 "metadata": {
  "interpreter": {
   "hash": "aee8b7b246df8f9039afb4144a1f6fd8d2ca17a180786b69acc140d282b71a49"
  },
  "kernelspec": {
   "display_name": "Python 3.9.6 64-bit",
   "language": "python",
   "name": "python3"
  },
  "language_info": {
   "codemirror_mode": {
    "name": "ipython",
    "version": 3
   },
   "file_extension": ".py",
   "mimetype": "text/x-python",
   "name": "python",
   "nbconvert_exporter": "python",
   "pygments_lexer": "ipython3",
   "version": "3.9.6"
  },
  "orig_nbformat": 4
 },
 "nbformat": 4,
 "nbformat_minor": 2
}
